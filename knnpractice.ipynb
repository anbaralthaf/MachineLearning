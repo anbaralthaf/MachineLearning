{
 "cells": [
  {
   "cell_type": "code",
   "execution_count": null,
   "metadata": {},
   "outputs": [],
   "source": [
    "import numpy as numpy\n",
    "import pandas as pd\n",
    "from matplotlib.pyplot import plt\n",
    "from matplotlib.lines import Line2D"
   ]
  },
  {
   "cell_type": "code",
   "execution_count": null,
   "metadata": {},
   "outputs": [],
   "source": [
    "def knn_classify(new_fruit, data,k):\n",
    "    distances =[]\n",
    "    for index, row in data.iterrows():\n",
    "        dist = euclidean_dist(new_fruit,(row['weight'], row['sweetness']))\n",
    "        distances.append(dist, row['Label'])\n",
    "    \n",
    "    nearest_neighbors = \n",
    "    \n",
    "    "
   ]
  }
 ],
 "metadata": {
  "kernelspec": {
   "display_name": "Python 3",
   "language": "python",
   "name": "python3"
  },
  "language_info": {
   "name": "python",
   "version": "3.10.11"
  }
 },
 "nbformat": 4,
 "nbformat_minor": 2
}
