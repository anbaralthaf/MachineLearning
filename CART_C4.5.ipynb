{
 "cells": [
  {
   "cell_type": "markdown",
   "metadata": {},
   "source": [
    "# Cart \n",
    "- info_gain \n",
    "# C4.5\n",
    "- gain_ratio"
   ]
  },
  {
   "cell_type": "code",
   "execution_count": null,
   "metadata": {},
   "outputs": [
    {
     "name": "stdout",
     "output_type": "stream",
     "text": [
      "     Outlook  Temp Humidity    Wind Tennis\n",
      "0      Sunny   Hot     High    Weak     No\n",
      "1      Sunny   Hot     High  Strong     No\n",
      "2   Overcast   Hot     High    Weak    Yes\n",
      "3       Rain  Mild     High    Weak    Yes\n",
      "4       Rain  Cool   Normal    Weak    Yes\n",
      "5       Rain  Cool   Normal  Strong     No\n",
      "6   Overcast  Cool   Normal  Strong    Yes\n",
      "7      Sunny  Mild     High    Weak     No\n",
      "8      Sunny  Cool   Normal    Weak    Yes\n",
      "9       Rain  Mild   Normal    Weak    Yes\n",
      "10     Sunny  Mild   Normal  Strong    Yes\n",
      "11  Overcast  Mild     High  Strong    Yes\n",
      "12  Overcast   Hot   Normal    Weak    Yes\n",
      "13      Rain  Mild   Normal  Strong     No\n"
     ]
    }
   ],
   "source": [
    "import pandas as pd\n",
    "import numpy as np \n",
    "from scipy.stats import entropy\n",
    "\n",
    "p_data = pd.read_csv('weather_data_tennis.csv')\n",
    "print(p_data)\n",
    "\n",
    "class Node:\n",
    "    \n",
    "    def __init__(self ):\n",
    "        self.head = None\n",
    "        self.ans = None\n",
    "        self.next = {}\n",
    "        self.end = False\n",
    "\n",
    "class Decision_Tree:\n",
    "    \n",
    "    def info_gain(self, data, classifier, attribute):\n",
    "        gain_data = 0\n",
    "        classes = data[classifier].unique()\n",
    "        for c in classes:\n",
    "            p = len(data[data[classifier] == c]) / len(data)\n",
    "            gain_data += p ** 2\n",
    "        gain_data = 1 - gain_data \n",
    "\n",
    "        gain_att = 0\n",
    "        attribute_values = data[attribute].unique()\n",
    "        for val in attribute_values:\n",
    "            subset = data[data[attribute] == val]\n",
    "            subset_size = len(subset)\n",
    "            if subset_size == 0:\n",
    "                continue\n",
    "            subset_gini = 0\n",
    "            for c in classes:\n",
    "                p = len(subset[subset[classifier] == c]) / subset_size\n",
    "                subset_gini += p ** 2\n",
    "            subset_gini = 1 - subset_gini\n",
    "            gain_att += (subset_size / len(data)) * subset_gini\n",
    "\n",
    "        return gain_data - gain_att\n",
    "        \n",
    "    def split(self, data, classifier):\n",
    "        if len(data[classifier].unique()) == 1:\n",
    "            ob = Node()\n",
    "            ob.end = True\n",
    "            ob.ans = data[classifier].unique()[0]\n",
    "            return ob\n",
    "        else:\n",
    "            ob = Node()\n",
    "            att = None\n",
    "            info_gain = float('-inf')\n",
    "            for x in data.columns:\n",
    "                if x == classifier:\n",
    "                    continue\n",
    "                val = self.info_gain(data, classifier, x)\n",
    "                if val > info_gain:\n",
    "                    info_gain = val\n",
    "                    att = x\n",
    "            ob.head = att\n",
    "            \n",
    "            for x in data[att].unique():\n",
    "                ndata = data[data[att] == x]\n",
    "                ndata = ndata.drop(att, axis = 1)\n",
    "                ob.next[x] = self.split(ndata, classifier)\n",
    "                \n",
    "            return ob\n",
    "\n",
    "tree = Decision_Tree()\n",
    "tree.root = tree.split(p_data, 'Tennis')"
   ]
  },
  {
   "cell_type": "code",
   "execution_count": 3,
   "metadata": {},
   "outputs": [
    {
     "ename": "KeyError",
     "evalue": "''",
     "output_type": "error",
     "traceback": [
      "\u001b[1;31m---------------------------------------------------------------------------\u001b[0m",
      "\u001b[1;31mKeyError\u001b[0m                                  Traceback (most recent call last)",
      "Cell \u001b[1;32mIn[3], line 18\u001b[0m\n\u001b[0;32m     15\u001b[0m     \u001b[38;5;28;01mif\u001b[39;00m curr\u001b[38;5;241m.\u001b[39mhead \u001b[38;5;241m==\u001b[39m \u001b[38;5;124m'\u001b[39m\u001b[38;5;124mWind\u001b[39m\u001b[38;5;124m'\u001b[39m:\n\u001b[0;32m     16\u001b[0m         \u001b[38;5;28;01mreturn\u001b[39;00m dfs(curr\u001b[38;5;241m.\u001b[39mnext[wind], out, temp, humidity, wind)\n\u001b[1;32m---> 18\u001b[0m \u001b[38;5;28mprint\u001b[39m(\u001b[43mdfs\u001b[49m\u001b[43m(\u001b[49m\u001b[43mtree\u001b[49m\u001b[38;5;241;43m.\u001b[39;49m\u001b[43mroot\u001b[49m\u001b[43m,\u001b[49m\u001b[43m \u001b[49m\u001b[43mu_outlook\u001b[49m\u001b[43m,\u001b[49m\u001b[43m \u001b[49m\u001b[43mu_temp\u001b[49m\u001b[43m,\u001b[49m\u001b[43m \u001b[49m\u001b[43mu_humidity\u001b[49m\u001b[43m,\u001b[49m\u001b[43m \u001b[49m\u001b[43mu_wind\u001b[49m\u001b[43m)\u001b[49m)\n",
      "Cell \u001b[1;32mIn[3], line 14\u001b[0m, in \u001b[0;36mdfs\u001b[1;34m(curr, out, temp, humidity, wind)\u001b[0m\n\u001b[0;32m     12\u001b[0m     \u001b[38;5;28;01mreturn\u001b[39;00m dfs(curr\u001b[38;5;241m.\u001b[39mnext[temp], out, temp, humidity, wind)\n\u001b[0;32m     13\u001b[0m \u001b[38;5;28;01mif\u001b[39;00m curr\u001b[38;5;241m.\u001b[39mhead \u001b[38;5;241m==\u001b[39m \u001b[38;5;124m'\u001b[39m\u001b[38;5;124mHumidity\u001b[39m\u001b[38;5;124m'\u001b[39m:\n\u001b[1;32m---> 14\u001b[0m     \u001b[38;5;28;01mreturn\u001b[39;00m dfs(\u001b[43mcurr\u001b[49m\u001b[38;5;241;43m.\u001b[39;49m\u001b[43mnext\u001b[49m\u001b[43m[\u001b[49m\u001b[43mhumidity\u001b[49m\u001b[43m]\u001b[49m, out, temp, humidity, wind)\n\u001b[0;32m     15\u001b[0m \u001b[38;5;28;01mif\u001b[39;00m curr\u001b[38;5;241m.\u001b[39mhead \u001b[38;5;241m==\u001b[39m \u001b[38;5;124m'\u001b[39m\u001b[38;5;124mWind\u001b[39m\u001b[38;5;124m'\u001b[39m:\n\u001b[0;32m     16\u001b[0m     \u001b[38;5;28;01mreturn\u001b[39;00m dfs(curr\u001b[38;5;241m.\u001b[39mnext[wind], out, temp, humidity, wind)\n",
      "\u001b[1;31mKeyError\u001b[0m: ''"
     ]
    }
   ],
   "source": [
    "u_outlook = input(f'outlook = ')\n",
    "u_temp = input(f'temp = ')\n",
    "u_humidity = input(f'humidity = ')\n",
    "u_wind = input(f'wind = ')\n",
    "\n",
    "def dfs(curr, out, temp, humidity, wind):\n",
    "    if curr.end:\n",
    "        return curr.ans\n",
    "    if curr.head == 'Outlook':\n",
    "        return dfs(curr.next[out], out, temp, humidity, wind)\n",
    "    if curr.head == 'Temp':\n",
    "        return dfs(curr.next[temp], out, temp, humidity, wind)\n",
    "    if curr.head == 'Humidity':\n",
    "        return dfs(curr.next[humidity], out, temp, humidity, wind)\n",
    "    if curr.head == 'Wind':\n",
    "        return dfs(curr.next[wind], out, temp, humidity, wind)\n",
    "        \n",
    "print(dfs(tree.root, u_outlook, u_temp, u_humidity, u_wind))"
   ]
  }
 ],
 "metadata": {
  "kernelspec": {
   "display_name": "Python 3",
   "language": "python",
   "name": "python3"
  },
  "language_info": {
   "codemirror_mode": {
    "name": "ipython",
    "version": 3
   },
   "file_extension": ".py",
   "mimetype": "text/x-python",
   "name": "python",
   "nbconvert_exporter": "python",
   "pygments_lexer": "ipython3",
   "version": "3.10.11"
  }
 },
 "nbformat": 4,
 "nbformat_minor": 2
}
