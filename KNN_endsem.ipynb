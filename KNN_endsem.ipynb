{
 "cells": [
  {
   "cell_type": "code",
   "execution_count": 2,
   "metadata": {},
   "outputs": [],
   "source": [
    "import numpy as np\n",
    "import pandas as pd\n",
    "import matplotlib.pyplot as plt"
   ]
  },
  {
   "cell_type": "code",
   "execution_count": 3,
   "metadata": {},
   "outputs": [],
   "source": [
    "data = {\n",
    "    'weight':[180,200,150,170,160,140],\n",
    "    'sweetness':[7,6,4,5,6,3],\n",
    "    'label':['Apple','Apple','Orange','Orange','Apple','Orange']\n",
    "}"
   ]
  },
  {
   "cell_type": "code",
   "execution_count": 4,
   "metadata": {},
   "outputs": [],
   "source": [
    "dataset = pd.DataFrame(data)"
   ]
  },
  {
   "cell_type": "code",
   "execution_count": 5,
   "metadata": {},
   "outputs": [
    {
     "data": {
      "text/html": [
       "<div>\n",
       "<style scoped>\n",
       "    .dataframe tbody tr th:only-of-type {\n",
       "        vertical-align: middle;\n",
       "    }\n",
       "\n",
       "    .dataframe tbody tr th {\n",
       "        vertical-align: top;\n",
       "    }\n",
       "\n",
       "    .dataframe thead th {\n",
       "        text-align: right;\n",
       "    }\n",
       "</style>\n",
       "<table border=\"1\" class=\"dataframe\">\n",
       "  <thead>\n",
       "    <tr style=\"text-align: right;\">\n",
       "      <th></th>\n",
       "      <th>weight</th>\n",
       "      <th>sweetness</th>\n",
       "      <th>label</th>\n",
       "    </tr>\n",
       "  </thead>\n",
       "  <tbody>\n",
       "    <tr>\n",
       "      <th>0</th>\n",
       "      <td>180</td>\n",
       "      <td>7</td>\n",
       "      <td>Apple</td>\n",
       "    </tr>\n",
       "    <tr>\n",
       "      <th>1</th>\n",
       "      <td>200</td>\n",
       "      <td>6</td>\n",
       "      <td>Apple</td>\n",
       "    </tr>\n",
       "    <tr>\n",
       "      <th>2</th>\n",
       "      <td>150</td>\n",
       "      <td>4</td>\n",
       "      <td>Orange</td>\n",
       "    </tr>\n",
       "    <tr>\n",
       "      <th>3</th>\n",
       "      <td>170</td>\n",
       "      <td>5</td>\n",
       "      <td>Orange</td>\n",
       "    </tr>\n",
       "    <tr>\n",
       "      <th>4</th>\n",
       "      <td>160</td>\n",
       "      <td>6</td>\n",
       "      <td>Apple</td>\n",
       "    </tr>\n",
       "    <tr>\n",
       "      <th>5</th>\n",
       "      <td>140</td>\n",
       "      <td>3</td>\n",
       "      <td>Orange</td>\n",
       "    </tr>\n",
       "  </tbody>\n",
       "</table>\n",
       "</div>"
      ],
      "text/plain": [
       "   weight  sweetness   label\n",
       "0     180          7   Apple\n",
       "1     200          6   Apple\n",
       "2     150          4  Orange\n",
       "3     170          5  Orange\n",
       "4     160          6   Apple\n",
       "5     140          3  Orange"
      ]
     },
     "execution_count": 5,
     "metadata": {},
     "output_type": "execute_result"
    }
   ],
   "source": [
    "dataset"
   ]
  },
  {
   "cell_type": "code",
   "execution_count": 6,
   "metadata": {},
   "outputs": [],
   "source": [
    "data = [  \n",
    "#  weight,sweetness,label          \n",
    "    (180, 7, 'Apple'),\n",
    "    (200, 6, 'Apple'),\n",
    "    (150, 4, 'Orange'),\n",
    "    (170, 5, 'Orange'),\n",
    "    (160, 6, 'Apple'),\n",
    "    (140, 3, 'Orange')\n",
    "]"
   ]
  },
  {
   "cell_type": "code",
   "execution_count": 7,
   "metadata": {},
   "outputs": [],
   "source": [
    "new_fruit = (165,5.5)"
   ]
  },
  {
   "cell_type": "code",
   "execution_count": 8,
   "metadata": {},
   "outputs": [],
   "source": [
    "def euclidean_distance(x,y):\n",
    "    return np.sqrt((x[0] - y[0]) ** 2 + (x[1] - y[1]) **2 )"
   ]
  },
  {
   "cell_type": "code",
   "execution_count": 9,
   "metadata": {},
   "outputs": [],
   "source": [
    "def manhattan_distance(x,y):\n",
    "    return sum(abs(a-b) for a , b in zip (x,y))"
   ]
  },
  {
   "cell_type": "code",
   "execution_count": 10,
   "metadata": {},
   "outputs": [],
   "source": [
    "def minkowski_distance(x,y,p):\n",
    "    return sum(abs(a-b)**p for a , b in zip(x,y)) ** (1/p)"
   ]
  },
  {
   "cell_type": "code",
   "execution_count": 11,
   "metadata": {},
   "outputs": [
    {
     "name": "stdout",
     "output_type": "stream",
     "text": [
      "Minkowski Distance: 4.626065009182741\n",
      "Manhattan Distance: 9\n",
      "Euclidean Distance: 3.605551275463989\n"
     ]
    }
   ],
   "source": [
    "#Testing \n",
    "\n",
    "point1 = (1, 2, 3)\n",
    "point2 = (4, 0, -1)\n",
    "\n",
    "distance1 = minkowski_distance(point1, point2,p=3)\n",
    "distance2 = manhattan_distance(point1, point2)\n",
    "distance3 = euclidean_distance(point1, point2)\n",
    "\n",
    "print(f\"Minkowski Distance: {distance1}\")\n",
    "print(f\"Manhattan Distance: {distance2}\")\n",
    "print(f\"Euclidean Distance: {distance3}\")"
   ]
  },
  {
   "cell_type": "code",
   "execution_count": 12,
   "metadata": {},
   "outputs": [],
   "source": [
    "def knn_classify(new_fruit,data,k):\n",
    "    distances = []\n",
    "    for weight,sweetness,label in data:\n",
    "        dist = euclidean_distance(new_fruit,(weight,sweetness))\n",
    "        distances.append((dist,label))\n",
    "        \n",
    "    distances.sort(key = lambda x:x[0])\n",
    "    nearest_neighbors = distances[:k]\n",
    "    \n",
    "    vote_count = {}\n",
    "    \n",
    "    for neighbor in nearest_neighbors:\n",
    "        label = neighbor[1]\n",
    "        if label in vote_count:\n",
    "            vote_count[label] += 1\n",
    "        else:\n",
    "            vote_count[label] = 1\n",
    "            \n",
    "    predicted_label = max(vote_count , key = vote_count.get)\n",
    "    return predicted_label"
   ]
  },
  {
   "cell_type": "code",
   "execution_count": 13,
   "metadata": {},
   "outputs": [
    {
     "name": "stdout",
     "output_type": "stream",
     "text": [
      "\t Output \n",
      "\n",
      "Fruit Predicted For k = 1 is Orange.\n",
      "Fruit Predicted For k = 2 is Orange.\n",
      "Fruit Predicted For k = 3 is Apple.\n"
     ]
    }
   ],
   "source": [
    "print(\"\\t Output \\n\")\n",
    "for k in [1,2,3]:\n",
    "    predicted_label123 = knn_classify(new_fruit,data,k)\n",
    "    print(f\"Fruit Predicted For k = {k} is {predicted_label123}.\")"
   ]
  },
  {
   "cell_type": "code",
   "execution_count": 15,
   "metadata": {},
   "outputs": [
    {
     "data": {
      "text/plain": [
       "<Figure size 640x480 with 0 Axes>"
      ]
     },
     "metadata": {},
     "output_type": "display_data"
    },
    {
     "data": {
      "image/png": "[encoded data removed]",
      "text/plain": [
       "<Figure size 1000x600 with 1 Axes>"
      ]
     },
     "metadata": {},
     "output_type": "display_data"
    }
   ],
   "source": [
    "# Set up the plot\n",
    "plt.figure()\n",
    "\n",
    "# Create a grid for the decision boundary\n",
    "x_min, x_max = 130, 210  # Broad range for weights\n",
    "y_min, y_max = 2, 8      # Broad range for sweetness\n",
    "xx, yy = np.meshgrid(np.linspace(x_min, x_max, 100), np.linspace(y_min, y_max, 100))\n",
    "\n",
    "# Classify each point in the grid using k-NN\n",
    "Z = np.array([\n",
    "    1 if knn_classify((x, y), data, k) == 'Apple' else 0\n",
    "    for x, y in zip(xx.ravel(), yy.ravel())\n",
    "]).reshape(xx.shape)\n",
    "\n",
    "# Plot the decision boundary\n",
    "plt.figure(figsize=(10, 6))\n",
    "plt.contourf(xx, yy, Z, alpha=0.3, cmap='coolwarm')\n",
    "                \n",
    "# Plot each data point with a legend\n",
    "for weight, sweetness, label in data:\n",
    "    color = 'red' if label == \"Apple\" else 'orange'\n",
    "    plt.scatter(weight, sweetness, color=color, edgecolor='black')\n",
    "    \n",
    "# Plot the new fruit point\n",
    "plt.scatter(new_fruit[0], new_fruit[1], color='blue', marker='x', s=100, label='New Fruit')\n",
    "\n",
    "plt.title('KNN')\n",
    "plt.xlabel('Weight (grams)')\n",
    "plt.ylabel('Sweetness Level (1-10)')\n",
    "plt.grid()\n",
    "\n",
    "\n",
    "plt.legend()  \n",
    "\n",
    "plt.show()\n"
   ]
  },
  {
   "cell_type": "code",
   "execution_count": null,
   "metadata": {},
   "outputs": [],
   "source": []
  }
 ],
 "metadata": {
  "kernelspec": {
   "display_name": "Python 3",
   "language": "python",
   "name": "python3"
  },
  "language_info": {
   "codemirror_mode": {
    "name": "ipython",
    "version": 3
   },
   "file_extension": ".py",
   "mimetype": "text/x-python",
   "name": "python",
   "nbconvert_exporter": "python",
   "pygments_lexer": "ipython3",
   "version": "3.10.11"
  }
 },
 "nbformat": 4,
 "nbformat_minor": 2
}
